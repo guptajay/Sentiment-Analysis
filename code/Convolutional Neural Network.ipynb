{
 "cells": [
  {
   "cell_type": "code",
   "execution_count": 1,
   "id": "1a458e7e",
   "metadata": {
    "execution": {
     "iopub.execute_input": "2021-11-13T06:44:55.944017Z",
     "iopub.status.busy": "2021-11-13T06:44:55.942328Z",
     "iopub.status.idle": "2021-11-13T06:45:01.167921Z",
     "shell.execute_reply": "2021-11-13T06:45:01.166773Z"
    },
    "id": "mxIAj7htEvod",
    "papermill": {
     "duration": 5.253295,
     "end_time": "2021-11-13T06:45:01.168071",
     "exception": false,
     "start_time": "2021-11-13T06:44:55.914776",
     "status": "completed"
    },
    "scrolled": true,
    "tags": []
   },
   "outputs": [],
   "source": [
    "from __future__ import division, print_function\n",
    "from gensim import models\n",
    "import tensorflow as tf\n",
    "from tensorflow.keras.callbacks import ModelCheckpoint\n",
    "from tensorflow.keras.layers import Dense, Dropout, Reshape, Flatten, concatenate, Input, Conv1D, GlobalMaxPooling1D, Embedding, MaxPooling1D\n",
    "from tensorflow.keras.models import Sequential\n",
    "from tensorflow.keras.preprocessing.text import Tokenizer\n",
    "from tensorflow.keras.preprocessing.sequence import pad_sequences\n",
    "from tensorflow.keras.models import Model\n",
    "from tensorflow.keras.datasets import imdb\n",
    "from sklearn.model_selection import train_test_split\n",
    "from sklearn.metrics import accuracy_score\n",
    "from tensorflow.keras.callbacks import Callback, ReduceLROnPlateau, EarlyStopping\n",
    "import time\n",
    "import numpy as np\n",
    "import pandas as pd\n",
    "import os\n",
    "import collections\n",
    "import re\n",
    "import string"
   ]
  },
  {
   "cell_type": "code",
   "execution_count": 2,
   "id": "d296ba6b",
   "metadata": {
    "execution": {
     "iopub.execute_input": "2021-11-13T06:45:01.213093Z",
     "iopub.status.busy": "2021-11-13T06:45:01.212312Z",
     "iopub.status.idle": "2021-11-13T06:45:01.214808Z",
     "shell.execute_reply": "2021-11-13T06:45:01.214387Z"
    },
    "papermill": {
     "duration": 0.025196,
     "end_time": "2021-11-13T06:45:01.214918",
     "exception": false,
     "start_time": "2021-11-13T06:45:01.189722",
     "status": "completed"
    },
    "tags": []
   },
   "outputs": [],
   "source": [
    "import warnings\n",
    "warnings.filterwarnings(\"ignore\")"
   ]
  },
  {
   "cell_type": "code",
   "execution_count": 3,
   "id": "d237654e",
   "metadata": {
    "execution": {
     "iopub.execute_input": "2021-11-13T06:45:01.258157Z",
     "iopub.status.busy": "2021-11-13T06:45:01.257551Z",
     "iopub.status.idle": "2021-11-13T06:45:02.084997Z",
     "shell.execute_reply": "2021-11-13T06:45:02.085985Z",
     "shell.execute_reply.started": "2021-10-31T05:14:52.897426Z"
    },
    "id": "ZgcpaeOUGps8",
    "outputId": "a51aebbd-72ea-4b2a-9b47-4dfd46ddbaa6",
    "papermill": {
     "duration": 0.851592,
     "end_time": "2021-11-13T06:45:02.086180",
     "exception": false,
     "start_time": "2021-11-13T06:45:01.234588",
     "status": "completed"
    },
    "tags": []
   },
   "outputs": [
    {
     "name": "stdout",
     "output_type": "stream",
     "text": [
      "[nltk_data] Downloading package punkt to /usr/share/nltk_data...\n",
      "[nltk_data]   Package punkt is already up-to-date!\n",
      "[nltk_data] Downloading package stopwords to /usr/share/nltk_data...\n",
      "[nltk_data]   Unzipping corpora/stopwords.zip.\n"
     ]
    }
   ],
   "source": [
    "import nltk\n",
    "nltk.download('punkt')\n",
    "nltk.download('stopwords')\n",
    "from nltk import word_tokenize, WordNetLemmatizer\n",
    "from nltk.corpus import stopwords\n",
    "stoplist = stopwords.words('english')"
   ]
  },
  {
   "cell_type": "code",
   "execution_count": 4,
   "id": "b4606708",
   "metadata": {
    "execution": {
     "iopub.execute_input": "2021-11-13T06:45:02.131869Z",
     "iopub.status.busy": "2021-11-13T06:45:02.131104Z",
     "iopub.status.idle": "2021-11-13T06:45:02.133047Z",
     "shell.execute_reply": "2021-11-13T06:45:02.133455Z",
     "shell.execute_reply.started": "2021-10-31T05:14:52.917065Z"
    },
    "id": "aJ_QKDU8E9FH",
    "outputId": "68cd738a-57d4-4c8e-8eff-53b5f90c6098",
    "papermill": {
     "duration": 0.026153,
     "end_time": "2021-11-13T06:45:02.133584",
     "exception": false,
     "start_time": "2021-11-13T06:45:02.107431",
     "status": "completed"
    },
    "tags": []
   },
   "outputs": [],
   "source": [
    "# from google.colab import drive\n",
    "# drive.mount('/content/gdrive')"
   ]
  },
  {
   "cell_type": "markdown",
   "id": "127edac1",
   "metadata": {
    "id": "DBZA5jNTEvoi",
    "papermill": {
     "duration": 0.02021,
     "end_time": "2021-11-13T06:45:02.174506",
     "exception": false,
     "start_time": "2021-11-13T06:45:02.154296",
     "status": "completed"
    },
    "tags": []
   },
   "source": [
    "### Read data"
   ]
  },
  {
   "cell_type": "code",
   "execution_count": 5,
   "id": "eec29978",
   "metadata": {
    "execution": {
     "iopub.execute_input": "2021-11-13T06:45:02.220810Z",
     "iopub.status.busy": "2021-11-13T06:45:02.220049Z",
     "iopub.status.idle": "2021-11-13T06:45:02.222169Z",
     "shell.execute_reply": "2021-11-13T06:45:02.222568Z",
     "shell.execute_reply.started": "2021-10-31T05:14:52.922867Z"
    },
    "id": "3fCcrmTZSI90",
    "papermill": {
     "duration": 0.026872,
     "end_time": "2021-11-13T06:45:02.222695",
     "exception": false,
     "start_time": "2021-11-13T06:45:02.195823",
     "status": "completed"
    },
    "tags": []
   },
   "outputs": [],
   "source": [
    "# IMDB, TWITTER\n",
    "DATA = 'TWITTER'"
   ]
  },
  {
   "cell_type": "code",
   "execution_count": 6,
   "id": "68573c91",
   "metadata": {
    "execution": {
     "iopub.execute_input": "2021-11-13T06:45:02.268038Z",
     "iopub.status.busy": "2021-11-13T06:45:02.267232Z",
     "iopub.status.idle": "2021-11-13T06:45:02.269152Z",
     "shell.execute_reply": "2021-11-13T06:45:02.269564Z",
     "shell.execute_reply.started": "2021-10-31T05:14:52.933394Z"
    },
    "papermill": {
     "duration": 0.026855,
     "end_time": "2021-11-13T06:45:02.269683",
     "exception": false,
     "start_time": "2021-11-13T06:45:02.242828",
     "status": "completed"
    },
    "tags": []
   },
   "outputs": [],
   "source": [
    "TRAIN_TEST_SPLIT = 0.7"
   ]
  },
  {
   "cell_type": "code",
   "execution_count": 7,
   "id": "de2cb53a",
   "metadata": {
    "execution": {
     "iopub.execute_input": "2021-11-13T06:45:02.321359Z",
     "iopub.status.busy": "2021-11-13T06:45:02.320803Z",
     "iopub.status.idle": "2021-11-13T06:45:08.265827Z",
     "shell.execute_reply": "2021-11-13T06:45:08.265295Z",
     "shell.execute_reply.started": "2021-10-31T05:14:52.941128Z"
    },
    "id": "b8he2IX1Evok",
    "outputId": "4ee5d190-9f80-4233-c728-63cc417b5fc1",
    "papermill": {
     "duration": 5.970844,
     "end_time": "2021-11-13T06:45:08.265968",
     "exception": false,
     "start_time": "2021-11-13T06:45:02.295124",
     "status": "completed"
    },
    "tags": []
   },
   "outputs": [
    {
     "data": {
      "text/html": [
       "<div>\n",
       "<style scoped>\n",
       "    .dataframe tbody tr th:only-of-type {\n",
       "        vertical-align: middle;\n",
       "    }\n",
       "\n",
       "    .dataframe tbody tr th {\n",
       "        vertical-align: top;\n",
       "    }\n",
       "\n",
       "    .dataframe thead th {\n",
       "        text-align: right;\n",
       "    }\n",
       "</style>\n",
       "<table border=\"1\" class=\"dataframe\">\n",
       "  <thead>\n",
       "    <tr style=\"text-align: right;\">\n",
       "      <th></th>\n",
       "      <th>Label</th>\n",
       "      <th>Text</th>\n",
       "    </tr>\n",
       "  </thead>\n",
       "  <tbody>\n",
       "    <tr>\n",
       "      <th>0</th>\n",
       "      <td>negative</td>\n",
       "      <td>is upset that he can't update his Facebook by ...</td>\n",
       "    </tr>\n",
       "    <tr>\n",
       "      <th>1</th>\n",
       "      <td>negative</td>\n",
       "      <td>@Kenichan I dived many times for the ball. Man...</td>\n",
       "    </tr>\n",
       "    <tr>\n",
       "      <th>2</th>\n",
       "      <td>negative</td>\n",
       "      <td>my whole body feels itchy and like its on fire</td>\n",
       "    </tr>\n",
       "    <tr>\n",
       "      <th>3</th>\n",
       "      <td>negative</td>\n",
       "      <td>@nationwideclass no, it's not behaving at all....</td>\n",
       "    </tr>\n",
       "    <tr>\n",
       "      <th>4</th>\n",
       "      <td>negative</td>\n",
       "      <td>@Kwesidei not the whole crew</td>\n",
       "    </tr>\n",
       "  </tbody>\n",
       "</table>\n",
       "</div>"
      ],
      "text/plain": [
       "      Label                                               Text\n",
       "0  negative  is upset that he can't update his Facebook by ...\n",
       "1  negative  @Kenichan I dived many times for the ball. Man...\n",
       "2  negative    my whole body feels itchy and like its on fire \n",
       "3  negative  @nationwideclass no, it's not behaving at all....\n",
       "4  negative                      @Kwesidei not the whole crew "
      ]
     },
     "execution_count": 7,
     "metadata": {},
     "output_type": "execute_result"
    }
   ],
   "source": [
    "if(DATA == 'TWITTER'):\n",
    "    data = pd.read_csv('../input/sentiment140/training.1600000.processed.noemoticon.csv', encoding='latin-1')\n",
    "    data.columns=['Label', 'id', 'Date', 'Query', 'User', 'Text']\n",
    "    data = data.drop(columns=['id', 'Date', 'Query', 'User'], axis=1)\n",
    "    data['Label'] = data['Label'].map({0:'negative', 4:'positive'})\n",
    "    # data = data.sample(frac = 0.6, random_state = 42)\n",
    "elif(DATA == 'IMDB'):\n",
    "    data = pd.read_csv('../input/imdb-dataset-of-50k-movie-reviews/IMDB Dataset.csv')\n",
    "    data.columns = ['Text', 'Label']\n",
    "\n",
    "data.head()"
   ]
  },
  {
   "cell_type": "code",
   "execution_count": 8,
   "id": "6629c556",
   "metadata": {
    "execution": {
     "iopub.execute_input": "2021-11-13T06:45:08.399578Z",
     "iopub.status.busy": "2021-11-13T06:45:08.398796Z",
     "iopub.status.idle": "2021-11-13T06:45:08.428378Z",
     "shell.execute_reply": "2021-11-13T06:45:08.427947Z",
     "shell.execute_reply.started": "2021-10-31T05:14:54.750778Z"
    },
    "id": "EEMNYV-8Evol",
    "outputId": "d12654c8-91e0-470b-819d-8e5be9fcd03f",
    "papermill": {
     "duration": 0.141735,
     "end_time": "2021-11-13T06:45:08.428507",
     "exception": false,
     "start_time": "2021-11-13T06:45:08.286772",
     "status": "completed"
    },
    "tags": []
   },
   "outputs": [
    {
     "data": {
      "text/plain": [
       "array(['negative', 'positive'], dtype=object)"
      ]
     },
     "execution_count": 8,
     "metadata": {},
     "output_type": "execute_result"
    }
   ],
   "source": [
    "data.Label.unique()"
   ]
  },
  {
   "cell_type": "code",
   "execution_count": 9,
   "id": "dda26583",
   "metadata": {
    "execution": {
     "iopub.execute_input": "2021-11-13T06:45:08.489468Z",
     "iopub.status.busy": "2021-11-13T06:45:08.479108Z",
     "iopub.status.idle": "2021-11-13T06:45:10.437117Z",
     "shell.execute_reply": "2021-11-13T06:45:10.437619Z",
     "shell.execute_reply.started": "2021-10-31T05:14:54.771697Z"
    },
    "id": "t5aWsNeTEvom",
    "outputId": "49ccaaff-245f-4a50-cc22-9ccb81092c94",
    "papermill": {
     "duration": 1.988351,
     "end_time": "2021-11-13T06:45:10.437779",
     "exception": false,
     "start_time": "2021-11-13T06:45:08.449428",
     "status": "completed"
    },
    "tags": []
   },
   "outputs": [
    {
     "data": {
      "text/html": [
       "<div>\n",
       "<style scoped>\n",
       "    .dataframe tbody tr th:only-of-type {\n",
       "        vertical-align: middle;\n",
       "    }\n",
       "\n",
       "    .dataframe tbody tr th {\n",
       "        vertical-align: top;\n",
       "    }\n",
       "\n",
       "    .dataframe thead th {\n",
       "        text-align: right;\n",
       "    }\n",
       "</style>\n",
       "<table border=\"1\" class=\"dataframe\">\n",
       "  <thead>\n",
       "    <tr style=\"text-align: right;\">\n",
       "      <th></th>\n",
       "      <th>Label</th>\n",
       "      <th>Text</th>\n",
       "      <th>Pos</th>\n",
       "      <th>Neg</th>\n",
       "    </tr>\n",
       "  </thead>\n",
       "  <tbody>\n",
       "    <tr>\n",
       "      <th>0</th>\n",
       "      <td>negative</td>\n",
       "      <td>is upset that he can't update his Facebook by ...</td>\n",
       "      <td>0</td>\n",
       "      <td>1</td>\n",
       "    </tr>\n",
       "    <tr>\n",
       "      <th>1</th>\n",
       "      <td>negative</td>\n",
       "      <td>@Kenichan I dived many times for the ball. Man...</td>\n",
       "      <td>0</td>\n",
       "      <td>1</td>\n",
       "    </tr>\n",
       "    <tr>\n",
       "      <th>2</th>\n",
       "      <td>negative</td>\n",
       "      <td>my whole body feels itchy and like its on fire</td>\n",
       "      <td>0</td>\n",
       "      <td>1</td>\n",
       "    </tr>\n",
       "    <tr>\n",
       "      <th>3</th>\n",
       "      <td>negative</td>\n",
       "      <td>@nationwideclass no, it's not behaving at all....</td>\n",
       "      <td>0</td>\n",
       "      <td>1</td>\n",
       "    </tr>\n",
       "    <tr>\n",
       "      <th>4</th>\n",
       "      <td>negative</td>\n",
       "      <td>@Kwesidei not the whole crew</td>\n",
       "      <td>0</td>\n",
       "      <td>1</td>\n",
       "    </tr>\n",
       "  </tbody>\n",
       "</table>\n",
       "</div>"
      ],
      "text/plain": [
       "      Label                                               Text  Pos  Neg\n",
       "0  negative  is upset that he can't update his Facebook by ...    0    1\n",
       "1  negative  @Kenichan I dived many times for the ball. Man...    0    1\n",
       "2  negative    my whole body feels itchy and like its on fire     0    1\n",
       "3  negative  @nationwideclass no, it's not behaving at all....    0    1\n",
       "4  negative                      @Kwesidei not the whole crew     0    1"
      ]
     },
     "execution_count": 9,
     "metadata": {},
     "output_type": "execute_result"
    }
   ],
   "source": [
    "pos = []\n",
    "neg = []\n",
    "\n",
    "for l in data.Label:\n",
    "    if l == 'negative':\n",
    "        pos.append(0)\n",
    "        neg.append(1)\n",
    "    elif l == 'positive':\n",
    "        pos.append(1)\n",
    "        neg.append(0)\n",
    "\n",
    "data['Pos'] = pos\n",
    "data['Neg'] = neg\n",
    "\n",
    "data.head()"
   ]
  },
  {
   "cell_type": "markdown",
   "id": "9ed11115",
   "metadata": {
    "id": "ClUrqol2Evoo",
    "papermill": {
     "duration": 0.021629,
     "end_time": "2021-11-13T06:45:10.480805",
     "exception": false,
     "start_time": "2021-11-13T06:45:10.459176",
     "status": "completed"
    },
    "tags": []
   },
   "source": [
    "### Clean data"
   ]
  },
  {
   "cell_type": "code",
   "execution_count": 10,
   "id": "77958fe6",
   "metadata": {
    "execution": {
     "iopub.execute_input": "2021-11-13T06:45:10.544528Z",
     "iopub.status.busy": "2021-11-13T06:45:10.543624Z",
     "iopub.status.idle": "2021-11-13T06:50:29.983951Z",
     "shell.execute_reply": "2021-11-13T06:50:29.983462Z",
     "shell.execute_reply.started": "2021-10-31T05:14:54.89213Z"
    },
    "id": "8_G9FNFEEvop",
    "papermill": {
     "duration": 319.481644,
     "end_time": "2021-11-13T06:50:29.984086",
     "exception": false,
     "start_time": "2021-11-13T06:45:10.502442",
     "status": "completed"
    },
    "tags": []
   },
   "outputs": [],
   "source": [
    "def remove_punct(text):\n",
    "    return re.sub('['+string.punctuation+']', '', text)\n",
    "\n",
    "def lower_token(tokens): \n",
    "    return [w.lower() for w in tokens]  \n",
    "\n",
    "def remove_stop_words(tokens): \n",
    "    return [word for word in tokens if word not in stoplist]\n",
    "\n",
    "data['Text_Clean'] = data['Text'].apply(lambda x: remove_punct(x))\n",
    "tokens = [word_tokenize(sen) for sen in data.Text_Clean] \n",
    "lower_tokens = [lower_token(token) for token in tokens] \n",
    "filtered_words = [remove_stop_words(sen) for sen in lower_tokens] \n",
    "result = [' '.join(sen) for sen in filtered_words] "
   ]
  },
  {
   "cell_type": "code",
   "execution_count": 11,
   "id": "da3fd99f",
   "metadata": {
    "execution": {
     "iopub.execute_input": "2021-11-13T06:50:30.048900Z",
     "iopub.status.busy": "2021-11-13T06:50:30.048012Z",
     "iopub.status.idle": "2021-11-13T06:50:32.113765Z",
     "shell.execute_reply": "2021-11-13T06:50:32.113192Z",
     "shell.execute_reply.started": "2021-10-31T05:16:41.596834Z"
    },
    "id": "DDsd7LINEvor",
    "outputId": "fb8b2e48-1362-44bd-8b22-87bc97aea748",
    "papermill": {
     "duration": 2.108282,
     "end_time": "2021-11-13T06:50:32.113899",
     "exception": false,
     "start_time": "2021-11-13T06:50:30.005617",
     "status": "completed"
    },
    "tags": []
   },
   "outputs": [
    {
     "data": {
      "text/html": [
       "<div>\n",
       "<style scoped>\n",
       "    .dataframe tbody tr th:only-of-type {\n",
       "        vertical-align: middle;\n",
       "    }\n",
       "\n",
       "    .dataframe tbody tr th {\n",
       "        vertical-align: top;\n",
       "    }\n",
       "\n",
       "    .dataframe thead th {\n",
       "        text-align: right;\n",
       "    }\n",
       "</style>\n",
       "<table border=\"1\" class=\"dataframe\">\n",
       "  <thead>\n",
       "    <tr style=\"text-align: right;\">\n",
       "      <th></th>\n",
       "      <th>Text_Final</th>\n",
       "      <th>tokens</th>\n",
       "      <th>Label</th>\n",
       "      <th>Pos</th>\n",
       "      <th>Neg</th>\n",
       "    </tr>\n",
       "  </thead>\n",
       "  <tbody>\n",
       "    <tr>\n",
       "      <th>0</th>\n",
       "      <td>upset cant update facebook texting might cry r...</td>\n",
       "      <td>[upset, cant, update, facebook, texting, might...</td>\n",
       "      <td>negative</td>\n",
       "      <td>0</td>\n",
       "      <td>1</td>\n",
       "    </tr>\n",
       "    <tr>\n",
       "      <th>1</th>\n",
       "      <td>kenichan dived many times ball managed save 50...</td>\n",
       "      <td>[kenichan, dived, many, times, ball, managed, ...</td>\n",
       "      <td>negative</td>\n",
       "      <td>0</td>\n",
       "      <td>1</td>\n",
       "    </tr>\n",
       "    <tr>\n",
       "      <th>2</th>\n",
       "      <td>whole body feels itchy like fire</td>\n",
       "      <td>[whole, body, feels, itchy, like, fire]</td>\n",
       "      <td>negative</td>\n",
       "      <td>0</td>\n",
       "      <td>1</td>\n",
       "    </tr>\n",
       "    <tr>\n",
       "      <th>3</th>\n",
       "      <td>nationwideclass behaving im mad cant see</td>\n",
       "      <td>[nationwideclass, behaving, im, mad, cant, see]</td>\n",
       "      <td>negative</td>\n",
       "      <td>0</td>\n",
       "      <td>1</td>\n",
       "    </tr>\n",
       "    <tr>\n",
       "      <th>4</th>\n",
       "      <td>kwesidei whole crew</td>\n",
       "      <td>[kwesidei, whole, crew]</td>\n",
       "      <td>negative</td>\n",
       "      <td>0</td>\n",
       "      <td>1</td>\n",
       "    </tr>\n",
       "  </tbody>\n",
       "</table>\n",
       "</div>"
      ],
      "text/plain": [
       "                                          Text_Final  \\\n",
       "0  upset cant update facebook texting might cry r...   \n",
       "1  kenichan dived many times ball managed save 50...   \n",
       "2                   whole body feels itchy like fire   \n",
       "3           nationwideclass behaving im mad cant see   \n",
       "4                                kwesidei whole crew   \n",
       "\n",
       "                                              tokens     Label  Pos  Neg  \n",
       "0  [upset, cant, update, facebook, texting, might...  negative    0    1  \n",
       "1  [kenichan, dived, many, times, ball, managed, ...  negative    0    1  \n",
       "2            [whole, body, feels, itchy, like, fire]  negative    0    1  \n",
       "3    [nationwideclass, behaving, im, mad, cant, see]  negative    0    1  \n",
       "4                            [kwesidei, whole, crew]  negative    0    1  "
      ]
     },
     "execution_count": 11,
     "metadata": {},
     "output_type": "execute_result"
    }
   ],
   "source": [
    "data['Text_Final'] = result\n",
    "data['tokens'] = filtered_words\n",
    "data = data[['Text_Final', 'tokens', 'Label', 'Pos', 'Neg']]\n",
    "data.head()"
   ]
  },
  {
   "cell_type": "markdown",
   "id": "e879c015",
   "metadata": {
    "id": "k3JnsMNnEvos",
    "papermill": {
     "duration": 0.021261,
     "end_time": "2021-11-13T06:50:32.156969",
     "exception": false,
     "start_time": "2021-11-13T06:50:32.135708",
     "status": "completed"
    },
    "tags": []
   },
   "source": [
    "### Split data into test and train"
   ]
  },
  {
   "cell_type": "code",
   "execution_count": 12,
   "id": "c950f25d",
   "metadata": {
    "execution": {
     "iopub.execute_input": "2021-11-13T06:50:32.206452Z",
     "iopub.status.busy": "2021-11-13T06:50:32.205797Z",
     "iopub.status.idle": "2021-11-13T06:50:32.785476Z",
     "shell.execute_reply": "2021-11-13T06:50:32.784946Z",
     "shell.execute_reply.started": "2021-10-31T05:16:41.985118Z"
    },
    "id": "HUCKXosfEvos",
    "papermill": {
     "duration": 0.607326,
     "end_time": "2021-11-13T06:50:32.785617",
     "exception": false,
     "start_time": "2021-11-13T06:50:32.178291",
     "status": "completed"
    },
    "tags": []
   },
   "outputs": [],
   "source": [
    "data_train, data_test = train_test_split(data, test_size = TRAIN_TEST_SPLIT, random_state = 42)"
   ]
  },
  {
   "cell_type": "markdown",
   "id": "456b38e0",
   "metadata": {
    "id": "XQetmRSpEvot",
    "papermill": {
     "duration": 0.021178,
     "end_time": "2021-11-13T06:50:32.829429",
     "exception": false,
     "start_time": "2021-11-13T06:50:32.808251",
     "status": "completed"
    },
    "tags": []
   },
   "source": [
    "### Load Google News Word2Vec model"
   ]
  },
  {
   "cell_type": "code",
   "execution_count": 13,
   "id": "98ae7010",
   "metadata": {
    "execution": {
     "iopub.execute_input": "2021-11-13T06:50:32.876800Z",
     "iopub.status.busy": "2021-11-13T06:50:32.876176Z",
     "iopub.status.idle": "2021-11-13T06:51:35.666763Z",
     "shell.execute_reply": "2021-11-13T06:51:35.665825Z",
     "shell.execute_reply.started": "2021-10-31T05:16:42.073416Z"
    },
    "id": "W7k4jNyMEvot",
    "papermill": {
     "duration": 62.815672,
     "end_time": "2021-11-13T06:51:35.666923",
     "exception": false,
     "start_time": "2021-11-13T06:50:32.851251",
     "status": "completed"
    },
    "tags": []
   },
   "outputs": [],
   "source": [
    "word2vec_path = '../input/word2vec/GoogleNews-vectors-negative300.bin'\n",
    "word2vec = models.KeyedVectors.load_word2vec_format(word2vec_path, binary=True)"
   ]
  },
  {
   "cell_type": "markdown",
   "id": "c311854e",
   "metadata": {
    "id": "Zpvb7rNhEvou",
    "papermill": {
     "duration": 0.021376,
     "end_time": "2021-11-13T06:51:35.711085",
     "exception": false,
     "start_time": "2021-11-13T06:51:35.689709",
     "status": "completed"
    },
    "tags": []
   },
   "source": [
    "### Tokenize and Pad sequences"
   ]
  },
  {
   "cell_type": "code",
   "execution_count": 14,
   "id": "438e27c3",
   "metadata": {
    "execution": {
     "iopub.execute_input": "2021-11-13T06:51:35.806611Z",
     "iopub.status.busy": "2021-11-13T06:51:35.801595Z",
     "iopub.status.idle": "2021-11-13T06:52:16.659720Z",
     "shell.execute_reply": "2021-11-13T06:52:16.659171Z",
     "shell.execute_reply.started": "2021-10-31T05:17:43.308997Z"
    },
    "id": "CSklwgZpEvou",
    "papermill": {
     "duration": 40.926863,
     "end_time": "2021-11-13T06:52:16.659863",
     "exception": false,
     "start_time": "2021-11-13T06:51:35.733000",
     "status": "completed"
    },
    "tags": []
   },
   "outputs": [],
   "source": [
    "MAX_SEQUENCE_LENGTH = 50\n",
    "EMBEDDING_DIM = 300\n",
    "\n",
    "all_training_words = [word for tokens in data_train[\"tokens\"] for word in tokens]\n",
    "TRAINING_VOCAB = sorted(list(set(all_training_words)))\n",
    "\n",
    "tokenizer = Tokenizer(num_words=len(TRAINING_VOCAB), lower=True, char_level=False)\n",
    "tokenizer.fit_on_texts(data_train[\"Text_Final\"].tolist())\n",
    "\n",
    "training_sequences = tokenizer.texts_to_sequences(data_train[\"Text_Final\"].tolist())\n",
    "train_cnn_data = pad_sequences(training_sequences, maxlen=MAX_SEQUENCE_LENGTH)\n",
    "\n",
    "test_sequences = tokenizer.texts_to_sequences(data_test[\"Text_Final\"].tolist())\n",
    "test_cnn_data = pad_sequences(test_sequences, maxlen=MAX_SEQUENCE_LENGTH)\n",
    "\n",
    "train_word_index = tokenizer.word_index"
   ]
  },
  {
   "cell_type": "code",
   "execution_count": 15,
   "id": "09c6de50",
   "metadata": {
    "execution": {
     "iopub.execute_input": "2021-11-13T06:52:16.757816Z",
     "iopub.status.busy": "2021-11-13T06:52:16.757172Z",
     "iopub.status.idle": "2021-11-13T06:52:19.692562Z",
     "shell.execute_reply": "2021-11-13T06:52:19.691606Z",
     "shell.execute_reply.started": "2021-10-31T05:17:51.949278Z"
    },
    "id": "GahxUn5NEvov",
    "papermill": {
     "duration": 2.962272,
     "end_time": "2021-11-13T06:52:19.692716",
     "exception": false,
     "start_time": "2021-11-13T06:52:16.730444",
     "status": "completed"
    },
    "tags": []
   },
   "outputs": [],
   "source": [
    "train_embedding_weights = np.zeros((len(train_word_index)+1, EMBEDDING_DIM))\n",
    "\n",
    "for word,index in train_word_index.items():\n",
    "    train_embedding_weights[index,:] = word2vec[word] if word in word2vec else np.random.rand(EMBEDDING_DIM)"
   ]
  },
  {
   "cell_type": "code",
   "execution_count": 16,
   "id": "6458e37b",
   "metadata": {
    "execution": {
     "iopub.execute_input": "2021-11-13T06:52:21.245184Z",
     "iopub.status.busy": "2021-11-13T06:52:20.919182Z",
     "iopub.status.idle": "2021-11-13T06:52:21.247320Z",
     "shell.execute_reply": "2021-11-13T06:52:21.247752Z",
     "shell.execute_reply.started": "2021-10-31T05:17:52.87071Z"
    },
    "id": "d_66LnnuUay_",
    "papermill": {
     "duration": 1.533285,
     "end_time": "2021-11-13T06:52:21.247911",
     "exception": false,
     "start_time": "2021-11-13T06:52:19.714626",
     "status": "completed"
    },
    "tags": []
   },
   "outputs": [],
   "source": [
    "del tokens\n",
    "del lower_tokens\n",
    "del stoplist\n",
    "del filtered_words\n",
    "del result\n",
    "del word2vec\n",
    "del data"
   ]
  },
  {
   "cell_type": "code",
   "execution_count": 17,
   "id": "c894bc53",
   "metadata": {
    "execution": {
     "iopub.execute_input": "2021-11-13T06:52:21.303182Z",
     "iopub.status.busy": "2021-11-13T06:52:21.302472Z",
     "iopub.status.idle": "2021-11-13T06:52:21.304637Z",
     "shell.execute_reply": "2021-11-13T06:52:21.305302Z",
     "shell.execute_reply.started": "2021-10-31T05:17:53.622042Z"
    },
    "id": "mIjxViwkGr6Q",
    "papermill": {
     "duration": 0.03517,
     "end_time": "2021-11-13T06:52:21.305461",
     "exception": false,
     "start_time": "2021-11-13T06:52:21.270291",
     "status": "completed"
    },
    "tags": []
   },
   "outputs": [],
   "source": [
    "label_names = ['Pos', 'Neg']\n",
    "\n",
    "x_train = train_cnn_data\n",
    "y_train = data_train[label_names].values\n",
    "\n",
    "x_test = test_cnn_data\n",
    "y_test = data_test[label_names].values"
   ]
  },
  {
   "cell_type": "markdown",
   "id": "a2544741",
   "metadata": {
    "id": "R4yrkJMvEvov",
    "papermill": {
     "duration": 0.021257,
     "end_time": "2021-11-13T06:52:21.348032",
     "exception": false,
     "start_time": "2021-11-13T06:52:21.326775",
     "status": "completed"
    },
    "tags": []
   },
   "source": [
    "### Define CNN"
   ]
  },
  {
   "cell_type": "code",
   "execution_count": 18,
   "id": "83a45fbf",
   "metadata": {
    "execution": {
     "iopub.execute_input": "2021-11-13T06:52:21.398934Z",
     "iopub.status.busy": "2021-11-13T06:52:21.398203Z",
     "iopub.status.idle": "2021-11-13T06:52:21.401394Z",
     "shell.execute_reply": "2021-11-13T06:52:21.400974Z",
     "shell.execute_reply.started": "2021-10-31T05:17:53.637502Z"
    },
    "id": "4BeyTX_3Evov",
    "papermill": {
     "duration": 0.032196,
     "end_time": "2021-11-13T06:52:21.401505",
     "exception": false,
     "start_time": "2021-11-13T06:52:21.369309",
     "status": "completed"
    },
    "tags": []
   },
   "outputs": [],
   "source": [
    "def ConvNet(embeddings, max_sequence_length, num_words, embedding_dim, labels_index):\n",
    "    sequence_input = Input(shape=(max_sequence_length,), dtype='int32')\n",
    "    \n",
    "    x = Embedding(num_words, embedding_dim,\n",
    "                                   weights=[embeddings], input_length = max_sequence_length, trainable=True)(sequence_input)\n",
    "\n",
    "    x = Conv1D(filters=200, kernel_size=2, activation='relu')(x)\n",
    "    x = MaxPooling1D(pool_size=2)(x)\n",
    "\n",
    "    x = Conv1D(filters=400, kernel_size=3, activation='relu')(x)\n",
    "    x = MaxPooling1D(pool_size=2)(x)\n",
    "\n",
    "    x = Conv1D(filters=800, kernel_size=4, activation='relu')(x)\n",
    "    x = MaxPooling1D(pool_size=2)(x)\n",
    "\n",
    "    x = Flatten()(x)\n",
    "    x = Dropout(0.5)(x) \n",
    "\n",
    "    x = Dense(512, activation='relu')(x)\n",
    "    x = Dropout(0.5)(x)\n",
    "\n",
    "    x = Dense(128, activation='relu')(x)\n",
    "    x = Dropout(0.5)(x)\n",
    "\n",
    "    preds = Dense(labels_index, activation='softmax')(x)\n",
    "    model = Model(sequence_input, preds)\n",
    "    model.compile(loss='categorical_crossentropy', optimizer='adam', metrics=['accuracy'])\n",
    "\n",
    "    return model"
   ]
  },
  {
   "cell_type": "code",
   "execution_count": 19,
   "id": "2f842a24",
   "metadata": {
    "execution": {
     "iopub.execute_input": "2021-11-13T06:52:21.449575Z",
     "iopub.status.busy": "2021-11-13T06:52:21.448839Z",
     "iopub.status.idle": "2021-11-13T06:52:21.451422Z",
     "shell.execute_reply": "2021-11-13T06:52:21.450933Z",
     "shell.execute_reply.started": "2021-10-31T05:17:53.651194Z"
    },
    "id": "UzkXrqoCLT2t",
    "papermill": {
     "duration": 0.028598,
     "end_time": "2021-11-13T06:52:21.451527",
     "exception": false,
     "start_time": "2021-11-13T06:52:21.422929",
     "status": "completed"
    },
    "tags": []
   },
   "outputs": [],
   "source": [
    "class TimeHistory(Callback):\n",
    "    def on_train_begin(self, logs={}):\n",
    "        self.times = []\n",
    "\n",
    "    def on_epoch_begin(self, batch, logs={}):\n",
    "        self.epoch_time_start = time.time()\n",
    "\n",
    "    def on_epoch_end(self, batch, logs={}):\n",
    "        self.times.append(time.time() - self.epoch_time_start)\n",
    "\n",
    "time_callback = TimeHistory()"
   ]
  },
  {
   "cell_type": "code",
   "execution_count": 20,
   "id": "7f2fbf74",
   "metadata": {
    "execution": {
     "iopub.execute_input": "2021-11-13T06:52:21.498769Z",
     "iopub.status.busy": "2021-11-13T06:52:21.498232Z",
     "iopub.status.idle": "2021-11-13T06:52:24.574963Z",
     "shell.execute_reply": "2021-11-13T06:52:24.575794Z",
     "shell.execute_reply.started": "2021-10-31T05:17:53.663682Z"
    },
    "id": "g3EI_HB4Evow",
    "outputId": "d75bf637-db39-4f14-d273-d0b1935209d2",
    "papermill": {
     "duration": 3.10267,
     "end_time": "2021-11-13T06:52:24.575992",
     "exception": false,
     "start_time": "2021-11-13T06:52:21.473322",
     "status": "completed"
    },
    "tags": []
   },
   "outputs": [
    {
     "name": "stderr",
     "output_type": "stream",
     "text": [
      "2021-11-13 06:52:21.607457: I tensorflow/stream_executor/cuda/cuda_gpu_executor.cc:937] successful NUMA node read from SysFS had negative value (-1), but there must be at least one NUMA node, so returning NUMA node zero\n",
      "2021-11-13 06:52:21.708609: I tensorflow/stream_executor/cuda/cuda_gpu_executor.cc:937] successful NUMA node read from SysFS had negative value (-1), but there must be at least one NUMA node, so returning NUMA node zero\n",
      "2021-11-13 06:52:21.709317: I tensorflow/stream_executor/cuda/cuda_gpu_executor.cc:937] successful NUMA node read from SysFS had negative value (-1), but there must be at least one NUMA node, so returning NUMA node zero\n",
      "2021-11-13 06:52:21.710533: I tensorflow/core/platform/cpu_feature_guard.cc:142] This TensorFlow binary is optimized with oneAPI Deep Neural Network Library (oneDNN) to use the following CPU instructions in performance-critical operations:  AVX2 AVX512F FMA\n",
      "To enable them in other operations, rebuild TensorFlow with the appropriate compiler flags.\n",
      "2021-11-13 06:52:21.711042: I tensorflow/stream_executor/cuda/cuda_gpu_executor.cc:937] successful NUMA node read from SysFS had negative value (-1), but there must be at least one NUMA node, so returning NUMA node zero\n",
      "2021-11-13 06:52:21.711766: I tensorflow/stream_executor/cuda/cuda_gpu_executor.cc:937] successful NUMA node read from SysFS had negative value (-1), but there must be at least one NUMA node, so returning NUMA node zero\n",
      "2021-11-13 06:52:21.712435: I tensorflow/stream_executor/cuda/cuda_gpu_executor.cc:937] successful NUMA node read from SysFS had negative value (-1), but there must be at least one NUMA node, so returning NUMA node zero\n",
      "2021-11-13 06:52:23.557797: I tensorflow/stream_executor/cuda/cuda_gpu_executor.cc:937] successful NUMA node read from SysFS had negative value (-1), but there must be at least one NUMA node, so returning NUMA node zero\n",
      "2021-11-13 06:52:23.558660: I tensorflow/stream_executor/cuda/cuda_gpu_executor.cc:937] successful NUMA node read from SysFS had negative value (-1), but there must be at least one NUMA node, so returning NUMA node zero\n",
      "2021-11-13 06:52:23.559324: I tensorflow/stream_executor/cuda/cuda_gpu_executor.cc:937] successful NUMA node read from SysFS had negative value (-1), but there must be at least one NUMA node, so returning NUMA node zero\n",
      "2021-11-13 06:52:23.560832: I tensorflow/core/common_runtime/gpu/gpu_device.cc:1510] Created device /job:localhost/replica:0/task:0/device:GPU:0 with 15403 MB memory:  -> device: 0, name: Tesla P100-PCIE-16GB, pci bus id: 0000:00:04.0, compute capability: 6.0\n"
     ]
    },
    {
     "name": "stdout",
     "output_type": "stream",
     "text": [
      "Model: \"model\"\n",
      "_________________________________________________________________\n",
      "Layer (type)                 Output Shape              Param #   \n",
      "=================================================================\n",
      "input_1 (InputLayer)         [(None, 50)]              0         \n",
      "_________________________________________________________________\n",
      "embedding (Embedding)        (None, 50, 300)           107214600 \n",
      "_________________________________________________________________\n",
      "conv1d (Conv1D)              (None, 49, 200)           120200    \n",
      "_________________________________________________________________\n",
      "max_pooling1d (MaxPooling1D) (None, 24, 200)           0         \n",
      "_________________________________________________________________\n",
      "conv1d_1 (Conv1D)            (None, 22, 400)           240400    \n",
      "_________________________________________________________________\n",
      "max_pooling1d_1 (MaxPooling1 (None, 11, 400)           0         \n",
      "_________________________________________________________________\n",
      "conv1d_2 (Conv1D)            (None, 8, 800)            1280800   \n",
      "_________________________________________________________________\n",
      "max_pooling1d_2 (MaxPooling1 (None, 4, 800)            0         \n",
      "_________________________________________________________________\n",
      "flatten (Flatten)            (None, 3200)              0         \n",
      "_________________________________________________________________\n",
      "dropout (Dropout)            (None, 3200)              0         \n",
      "_________________________________________________________________\n",
      "dense (Dense)                (None, 512)               1638912   \n",
      "_________________________________________________________________\n",
      "dropout_1 (Dropout)          (None, 512)               0         \n",
      "_________________________________________________________________\n",
      "dense_1 (Dense)              (None, 128)               65664     \n",
      "_________________________________________________________________\n",
      "dropout_2 (Dropout)          (None, 128)               0         \n",
      "_________________________________________________________________\n",
      "dense_2 (Dense)              (None, 2)                 258       \n",
      "=================================================================\n",
      "Total params: 110,560,834\n",
      "Trainable params: 110,560,834\n",
      "Non-trainable params: 0\n",
      "_________________________________________________________________\n"
     ]
    }
   ],
   "source": [
    "model = ConvNet(train_embedding_weights, MAX_SEQUENCE_LENGTH, len(train_word_index)+1, EMBEDDING_DIM, len(list(label_names)))\n",
    "model.summary()"
   ]
  },
  {
   "cell_type": "markdown",
   "id": "23fe2b26",
   "metadata": {
    "id": "sGL-U5meEvow",
    "papermill": {
     "duration": 0.022143,
     "end_time": "2021-11-13T06:52:24.620944",
     "exception": false,
     "start_time": "2021-11-13T06:52:24.598801",
     "status": "completed"
    },
    "tags": []
   },
   "source": [
    "### Train CNN"
   ]
  },
  {
   "cell_type": "code",
   "execution_count": 21,
   "id": "1961036d",
   "metadata": {
    "execution": {
     "iopub.execute_input": "2021-11-13T06:52:24.669417Z",
     "iopub.status.busy": "2021-11-13T06:52:24.668621Z",
     "iopub.status.idle": "2021-11-13T06:52:24.670672Z",
     "shell.execute_reply": "2021-11-13T06:52:24.671047Z",
     "shell.execute_reply.started": "2021-10-31T05:17:54.08241Z"
    },
    "id": "eSFfYzGPEvow",
    "papermill": {
     "duration": 0.028138,
     "end_time": "2021-11-13T06:52:24.671195",
     "exception": false,
     "start_time": "2021-11-13T06:52:24.643057",
     "status": "completed"
    },
    "tags": []
   },
   "outputs": [],
   "source": [
    "batch_size = 64\n",
    "rlrop = ReduceLROnPlateau(monitor='val_loss', factor=0.5, patience=2, verbose = 1)"
   ]
  },
  {
   "cell_type": "code",
   "execution_count": 22,
   "id": "20e324dd",
   "metadata": {
    "execution": {
     "iopub.execute_input": "2021-11-13T06:52:24.723301Z",
     "iopub.status.busy": "2021-11-13T06:52:24.718135Z",
     "iopub.status.idle": "2021-11-13T06:52:24.725829Z",
     "shell.execute_reply": "2021-11-13T06:52:24.726618Z",
     "shell.execute_reply.started": "2021-10-31T05:17:54.09082Z"
    },
    "id": "FxtPrxFxEvow",
    "outputId": "c78b07c6-ffed-4596-f74d-e8f45c225dcd",
    "papermill": {
     "duration": 0.033522,
     "end_time": "2021-11-13T06:52:24.726741",
     "exception": false,
     "start_time": "2021-11-13T06:52:24.693219",
     "status": "completed"
    },
    "tags": []
   },
   "outputs": [],
   "source": [
    "def getMetrics(num_of_epochs):\n",
    "    print(f'Epochs: {num_of_epochs}')\n",
    "    \n",
    "    model = ConvNet(train_embedding_weights, MAX_SEQUENCE_LENGTH, len(train_word_index)+1, EMBEDDING_DIM, len(list(label_names)))\n",
    "    hist = model.fit(x_train, y_train, epochs=num_of_epochs, validation_split=0.1, shuffle=True, batch_size=batch_size, callbacks = [time_callback, rlrop], verbose = 0)\n",
    "    total_time = sum(time_callback.times)\n",
    "    \n",
    "    print(f'Total Time Taken: {total_time} s')\n",
    "    \n",
    "    start = time.time()\n",
    "    \n",
    "    predictions = model.predict(x_test, verbose=1)\n",
    "    prediction_labels = []\n",
    "    \n",
    "    for p in predictions:\n",
    "        prediction_labels.append(labels[np.argmax(p)])\n",
    "    \n",
    "    end = time.time()\n",
    "    total_inference_time = end - start\n",
    "    \n",
    "    print(f'Test Accuracy: {accuracy_score(data_test.Label, prediction_labels)}')\n",
    "    print(f'Total Inference Time: {total_inference_time}')\n",
    "    \n",
    "    cce = tf.keras.losses.CategoricalCrossentropy()\n",
    "    cce_loss = cce(y_test, predictions).numpy()\n",
    "    print(f'Total Loss: {cce_loss}')\n",
    "    \n",
    "    print('-----')"
   ]
  },
  {
   "cell_type": "code",
   "execution_count": 23,
   "id": "5732ee5c",
   "metadata": {
    "execution": {
     "iopub.execute_input": "2021-11-13T06:52:24.777006Z",
     "iopub.status.busy": "2021-11-13T06:52:24.776229Z",
     "iopub.status.idle": "2021-11-13T07:56:27.499196Z",
     "shell.execute_reply": "2021-11-13T07:56:27.499847Z",
     "shell.execute_reply.started": "2021-10-31T05:17:54.101524Z"
    },
    "papermill": {
     "duration": 3842.751228,
     "end_time": "2021-11-13T07:56:27.500043",
     "exception": false,
     "start_time": "2021-11-13T06:52:24.748815",
     "status": "completed"
    },
    "tags": []
   },
   "outputs": [
    {
     "name": "stdout",
     "output_type": "stream",
     "text": [
      "Epochs: 2\n"
     ]
    },
    {
     "name": "stderr",
     "output_type": "stream",
     "text": [
      "2021-11-13 06:52:25.576220: I tensorflow/compiler/mlir/mlir_graph_optimization_pass.cc:185] None of the MLIR Optimization Passes are enabled (registered 2)\n",
      "2021-11-13 06:52:27.058208: I tensorflow/stream_executor/cuda/cuda_dnn.cc:369] Loaded cuDNN version 8005\n"
     ]
    },
    {
     "name": "stdout",
     "output_type": "stream",
     "text": [
      "Total Time Taken: 423.4450204372406 s\n",
      "35000/35000 [==============================] - 54s 2ms/step\n",
      "Test Accuracy: 0.7336357142857143\n",
      "Total Inference Time: 85.28436613082886\n",
      "Total Loss: 0.5422611832618713\n",
      "-----\n",
      "Epochs: 5\n",
      "\n",
      "Epoch 00003: ReduceLROnPlateau reducing learning rate to 0.0005000000237487257.\n",
      "\n",
      "Epoch 00005: ReduceLROnPlateau reducing learning rate to 0.0002500000118743628.\n",
      "Total Time Taken: 1036.5236241817474 s\n",
      "35000/35000 [==============================] - 53s 2ms/step\n",
      "Test Accuracy: 0.7114410714285714\n",
      "Total Inference Time: 85.1926097869873\n",
      "Total Loss: 0.9328731298446655\n",
      "-----\n",
      "Epochs: 10\n",
      "\n",
      "Epoch 00003: ReduceLROnPlateau reducing learning rate to 0.0005000000237487257.\n",
      "\n",
      "Epoch 00005: ReduceLROnPlateau reducing learning rate to 0.0002500000118743628.\n",
      "\n",
      "Epoch 00007: ReduceLROnPlateau reducing learning rate to 0.0001250000059371814.\n",
      "\n",
      "Epoch 00009: ReduceLROnPlateau reducing learning rate to 6.25000029685907e-05.\n",
      "Total Time Taken: 2079.5017058849335 s\n",
      "35000/35000 [==============================] - 54s 2ms/step\n",
      "Test Accuracy: 0.6942303571428572\n",
      "Total Inference Time: 86.01497077941895\n",
      "Total Loss: 2.297076463699341\n",
      "-----\n"
     ]
    }
   ],
   "source": [
    "epochs = [2, 5, 10]\n",
    "labels = ['positive', 'negative']\n",
    "\n",
    "for epoch in epochs:\n",
    "    getMetrics(epoch)"
   ]
  },
  {
   "cell_type": "code",
   "execution_count": 24,
   "id": "c2702ba3",
   "metadata": {
    "execution": {
     "iopub.execute_input": "2021-11-13T07:56:29.494141Z",
     "iopub.status.busy": "2021-11-13T07:56:29.493302Z",
     "iopub.status.idle": "2021-11-13T07:56:29.495194Z",
     "shell.execute_reply": "2021-11-13T07:56:29.495641Z",
     "shell.execute_reply.started": "2021-10-31T05:19:01.509141Z"
    },
    "id": "q4B8q-yiRbzz",
    "papermill": {
     "duration": 0.96286,
     "end_time": "2021-11-13T07:56:29.495784",
     "exception": false,
     "start_time": "2021-11-13T07:56:28.532924",
     "status": "completed"
    },
    "tags": []
   },
   "outputs": [],
   "source": [
    "del data_train\n",
    "del data_test"
   ]
  }
 ],
 "metadata": {
  "kernelspec": {
   "display_name": "Python 3",
   "language": "python",
   "name": "python3"
  },
  "language_info": {
   "codemirror_mode": {
    "name": "ipython",
    "version": 3
   },
   "file_extension": ".py",
   "mimetype": "text/x-python",
   "name": "python",
   "nbconvert_exporter": "python",
   "pygments_lexer": "ipython3",
   "version": "3.7.10"
  },
  "papermill": {
   "default_parameters": {},
   "duration": 4304.876533,
   "end_time": "2021-11-13T07:56:33.044609",
   "environment_variables": {},
   "exception": null,
   "input_path": "__notebook__.ipynb",
   "output_path": "__notebook__.ipynb",
   "parameters": {},
   "start_time": "2021-11-13T06:44:48.168076",
   "version": "2.3.3"
  }
 },
 "nbformat": 4,
 "nbformat_minor": 5
}
