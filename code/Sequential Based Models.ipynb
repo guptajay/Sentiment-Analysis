{
  "nbformat": 4,
  "nbformat_minor": 0,
  "metadata": {
    "colab": {
      "name": "Final IMDB 10 epochs.ipynb",
      "provenance": [],
      "collapsed_sections": []
    },
    "kernelspec": {
      "name": "python3",
      "display_name": "Python 3"
    },
    "language_info": {
      "name": "python"
    },
    "accelerator": "GPU"
  },
  "cells": [
    {
      "cell_type": "code",
      "metadata": {
        "id": "nzXfK6p3II3q"
      },
      "source": [
        "import tensorflow as tf \n",
        "import numpy as np\n",
        "from tensorflow.keras.preprocessing import sequence\n",
        "from numpy import array\n",
        "\n",
        "import matplotlib.image  as mpimg\n",
        "import matplotlib.pyplot as plt\n",
        "\n",
        "import time\n",
        "\n",
        "\n",
        "vocab_size = 10000\n",
        "(x_train, y_train), (x_test, y_test) = tf.keras.datasets.imdb.load_data(num_words=vocab_size)\n",
        "\n",
        "# Map for readable classnames\n",
        "class_names = [\"Negative\", \"Positive\"]"
      ],
      "execution_count": null,
      "outputs": []
    },
    {
      "cell_type": "code",
      "metadata": {
        "id": "pN2s71Q1IKA4"
      },
      "source": [
        "# Get the word index from the dataset\n",
        "word_index = tf.keras.datasets.imdb.get_word_index()\n",
        "\n",
        "# Ensure that \"special\" words are mapped into human readable terms \n",
        "word_index = {k:(v+3) for k,v in word_index.items()}\n",
        "word_index[\"<PAD>\"] = 0\n",
        "word_index[\"<START>\"] = 1\n",
        "word_index[\"<UNKNOWN>\"] = 2\n",
        "word_index[\"<UNUSED>\"] = 3\n",
        "\n",
        "# Perform reverse word lookup and make it callable\n",
        "reverse_word_index = dict([(value, key) for (key, value) in word_index.items()])\n",
        "def decode_review(text):\n",
        "    return ' '.join([reverse_word_index.get(i, '?') for i in text])"
      ],
      "execution_count": null,
      "outputs": []
    },
    {
      "cell_type": "code",
      "metadata": {
        "colab": {
          "base_uri": "https://localhost:8080/"
        },
        "id": "vZcrynW4IKDo",
        "outputId": "f8f6650a-c4f4-4593-831f-e2b65000a037"
      },
      "source": [
        "# Concatonate test and training datasets\n",
        "allreviews = np.concatenate((x_train, x_test), axis=0)\n",
        "\n",
        "# Review lengths across test and training whole datasets\n",
        "print(\"Maximum review length: {}\".format(len(max((allreviews), key=len))))\n",
        "print(\"Minimum review length: {}\".format(len(min((allreviews), key=len))))\n",
        "result = [len(x) for x in allreviews]\n",
        "print(\"Mean review length: {}\".format(np.mean(result)))\n",
        "\n",
        "# Print a review and it's class as stored in the dataset. Replace the number\n",
        "# to select a different review.\n",
        "print(\"\")\n",
        "print(\"Machine readable Review\")\n",
        "print(\"  Review Text: \" + str(x_train[60]))\n",
        "print(\"  Review Sentiment: \" + str(y_train[60]))\n",
        "\n",
        "# Print a review and it's class in human readable format. Replace the number\n",
        "# to select a different review.\n",
        "print(\"\")\n",
        "print(\"Human Readable Review\")\n",
        "print(\"  Review Text: \" + decode_review(x_train[60]))\n",
        "print(\"  Review Sentiment: \" + class_names[y_train[60]])"
      ],
      "execution_count": null,
      "outputs": [
        {
          "output_type": "stream",
          "name": "stdout",
          "text": [
            "Maximum review length: 2494\n",
            "Minimum review length: 7\n",
            "Mean review length: 234.75892\n",
            "\n",
            "Machine readable Review\n",
            "  Review Text: [1, 13, 219, 14, 33, 4, 2, 22, 1413, 12, 16, 373, 175, 2711, 1115, 1026, 430, 939, 16, 23, 2444, 25, 43, 697, 89, 12, 16, 170, 8, 130, 262, 19, 32, 4, 665, 7, 4, 2, 322, 5, 4, 1520, 7, 4, 86, 250, 10, 10, 4, 249, 173, 16, 4, 3891, 6, 19, 4, 167, 564, 5, 564, 1325, 36, 805, 8, 216, 638, 17, 2, 21, 25, 100, 376, 507, 4, 2110, 15, 79, 125, 23, 567, 13, 2134, 233, 36, 4852, 2, 5, 81, 1672, 10, 10, 92, 437, 129, 58, 13, 69, 8, 401, 61, 1432, 39, 1286, 46, 7, 12]\n",
            "  Review Sentiment: 0\n",
            "\n",
            "Human Readable Review\n",
            "  Review Text: <START> i saw this at the <UNKNOWN> film festival it was awful every clichéd violent rich boy fantasy was on display you just knew how it was going to end especially with all the shots of the <UNKNOWN> wife and the rape of the first girl br br the worst part was the q a with the director writer and writer producer they tried to come across as <UNKNOWN> but you could tell they're the types that get off on violence i bet anything they frequent <UNKNOWN> and do drugs br br don't waste your time i had to keep my boyfriend from walking out of it\n",
            "  Review Sentiment: Negative\n"
          ]
        }
      ]
    },
    {
      "cell_type": "code",
      "metadata": {
        "colab": {
          "base_uri": "https://localhost:8080/"
        },
        "id": "4p6iWbq7IKGq",
        "outputId": "8690ca7f-0e26-4141-faa5-e684f7b89b54"
      },
      "source": [
        "# The length of reviews\n",
        "review_length = 500\n",
        "\n",
        "# Padding / truncated our reviews\n",
        "x_train = sequence.pad_sequences(x_train, maxlen = review_length)\n",
        "x_test = sequence.pad_sequences(x_test, maxlen = review_length)\n",
        "\n",
        "print(\"Shape Training Review Data: \" + str(x_train.shape))\n",
        "print(\"Shape Training Class Data: \" + str(y_train.shape))\n",
        "print(\"Shape Test Review Data: \" + str(x_test.shape))\n",
        "print(\"Shape Test Class Data: \" + str(y_test.shape))\n",
        "\n",
        "# Note padding is added to start of review, not the end\n",
        "print(\"\")\n",
        "print(\"Human Readable Review Text (post padding): \" + decode_review(x_train[60]))"
      ],
      "execution_count": null,
      "outputs": [
        {
          "output_type": "stream",
          "name": "stdout",
          "text": [
            "Shape Training Review Data: (25000, 500)\n",
            "Shape Training Class Data: (25000,)\n",
            "Shape Test Review Data: (25000, 500)\n",
            "Shape Test Class Data: (25000,)\n",
            "\n",
            "Human Readable Review Text (post padding): <PAD> <PAD> <PAD> <PAD> <PAD> <PAD> <PAD> <PAD> <PAD> <PAD> <PAD> <PAD> <PAD> <PAD> <PAD> <PAD> <PAD> <PAD> <PAD> <PAD> <PAD> <PAD> <PAD> <PAD> <PAD> <PAD> <PAD> <PAD> <PAD> <PAD> <PAD> <PAD> <PAD> <PAD> <PAD> <PAD> <PAD> <PAD> <PAD> <PAD> <PAD> <PAD> <PAD> <PAD> <PAD> <PAD> <PAD> <PAD> <PAD> <PAD> <PAD> <PAD> <PAD> <PAD> <PAD> <PAD> <PAD> <PAD> <PAD> <PAD> <PAD> <PAD> <PAD> <PAD> <PAD> <PAD> <PAD> <PAD> <PAD> <PAD> <PAD> <PAD> <PAD> <PAD> <PAD> <PAD> <PAD> <PAD> <PAD> <PAD> <PAD> <PAD> <PAD> <PAD> <PAD> <PAD> <PAD> <PAD> <PAD> <PAD> <PAD> <PAD> <PAD> <PAD> <PAD> <PAD> <PAD> <PAD> <PAD> <PAD> <PAD> <PAD> <PAD> <PAD> <PAD> <PAD> <PAD> <PAD> <PAD> <PAD> <PAD> <PAD> <PAD> <PAD> <PAD> <PAD> <PAD> <PAD> <PAD> <PAD> <PAD> <PAD> <PAD> <PAD> <PAD> <PAD> <PAD> <PAD> <PAD> <PAD> <PAD> <PAD> <PAD> <PAD> <PAD> <PAD> <PAD> <PAD> <PAD> <PAD> <PAD> <PAD> <PAD> <PAD> <PAD> <PAD> <PAD> <PAD> <PAD> <PAD> <PAD> <PAD> <PAD> <PAD> <PAD> <PAD> <PAD> <PAD> <PAD> <PAD> <PAD> <PAD> <PAD> <PAD> <PAD> <PAD> <PAD> <PAD> <PAD> <PAD> <PAD> <PAD> <PAD> <PAD> <PAD> <PAD> <PAD> <PAD> <PAD> <PAD> <PAD> <PAD> <PAD> <PAD> <PAD> <PAD> <PAD> <PAD> <PAD> <PAD> <PAD> <PAD> <PAD> <PAD> <PAD> <PAD> <PAD> <PAD> <PAD> <PAD> <PAD> <PAD> <PAD> <PAD> <PAD> <PAD> <PAD> <PAD> <PAD> <PAD> <PAD> <PAD> <PAD> <PAD> <PAD> <PAD> <PAD> <PAD> <PAD> <PAD> <PAD> <PAD> <PAD> <PAD> <PAD> <PAD> <PAD> <PAD> <PAD> <PAD> <PAD> <PAD> <PAD> <PAD> <PAD> <PAD> <PAD> <PAD> <PAD> <PAD> <PAD> <PAD> <PAD> <PAD> <PAD> <PAD> <PAD> <PAD> <PAD> <PAD> <PAD> <PAD> <PAD> <PAD> <PAD> <PAD> <PAD> <PAD> <PAD> <PAD> <PAD> <PAD> <PAD> <PAD> <PAD> <PAD> <PAD> <PAD> <PAD> <PAD> <PAD> <PAD> <PAD> <PAD> <PAD> <PAD> <PAD> <PAD> <PAD> <PAD> <PAD> <PAD> <PAD> <PAD> <PAD> <PAD> <PAD> <PAD> <PAD> <PAD> <PAD> <PAD> <PAD> <PAD> <PAD> <PAD> <PAD> <PAD> <PAD> <PAD> <PAD> <PAD> <PAD> <PAD> <PAD> <PAD> <PAD> <PAD> <PAD> <PAD> <PAD> <PAD> <PAD> <PAD> <PAD> <PAD> <PAD> <PAD> <PAD> <PAD> <PAD> <PAD> <PAD> <PAD> <PAD> <PAD> <PAD> <PAD> <PAD> <PAD> <PAD> <PAD> <PAD> <PAD> <PAD> <PAD> <PAD> <PAD> <PAD> <PAD> <PAD> <PAD> <PAD> <PAD> <PAD> <PAD> <PAD> <PAD> <PAD> <PAD> <PAD> <PAD> <PAD> <PAD> <PAD> <PAD> <PAD> <PAD> <PAD> <PAD> <PAD> <PAD> <PAD> <PAD> <PAD> <PAD> <PAD> <PAD> <PAD> <PAD> <PAD> <PAD> <PAD> <PAD> <PAD> <PAD> <PAD> <PAD> <PAD> <PAD> <PAD> <PAD> <PAD> <PAD> <PAD> <PAD> <PAD> <PAD> <PAD> <PAD> <PAD> <PAD> <PAD> <START> i saw this at the <UNKNOWN> film festival it was awful every clichéd violent rich boy fantasy was on display you just knew how it was going to end especially with all the shots of the <UNKNOWN> wife and the rape of the first girl br br the worst part was the q a with the director writer and writer producer they tried to come across as <UNKNOWN> but you could tell they're the types that get off on violence i bet anything they frequent <UNKNOWN> and do drugs br br don't waste your time i had to keep my boyfriend from walking out of it\n"
          ]
        }
      ]
    },
    {
      "cell_type": "markdown",
      "metadata": {
        "id": "w5J9Uqz3HKwq"
      },
      "source": [
        "**RNN Experiment**"
      ]
    },
    {
      "cell_type": "code",
      "metadata": {
        "colab": {
          "base_uri": "https://localhost:8080/"
        },
        "id": "ZqM44lHFG0lF",
        "outputId": "7d34d03e-3be8-4044-ca8f-c64e73d3d4f0"
      },
      "source": [
        "model = tf.keras.models.Sequential()\n",
        "model.add(\n",
        "    tf.keras.layers.Embedding(\n",
        "        input_dim = vocab_size,\n",
        "        output_dim = 32,\n",
        "        input_length = review_length\n",
        "    )\n",
        ")\n",
        "model.add(\n",
        "    tf.keras.layers.Dropout(\n",
        "        rate=0.25\n",
        "    )\n",
        ")\n",
        "model.add(\n",
        "    tf.keras.layers.SimpleRNN(\n",
        "        units=32\n",
        "    )\n",
        ")\n",
        "\n",
        "model.add(\n",
        "    tf.keras.layers.Dropout(\n",
        "        rate=0.25\n",
        "    )\n",
        ")\n",
        "model.add(\n",
        "    tf.keras.layers.Dense(\n",
        "        units=1,\n",
        "        activation='sigmoid' \n",
        "    )\n",
        ")\n",
        "model.compile(\n",
        "    loss=tf.keras.losses.binary_crossentropy,\n",
        "    optimizer=tf.keras.optimizers.Adam(),\n",
        "    metrics=['accuracy']) \n",
        "model.summary()"
      ],
      "execution_count": null,
      "outputs": [
        {
          "output_type": "stream",
          "name": "stdout",
          "text": [
            "Model: \"sequential_2\"\n",
            "_________________________________________________________________\n",
            "Layer (type)                 Output Shape              Param #   \n",
            "=================================================================\n",
            "embedding_2 (Embedding)      (None, 500, 32)           320000    \n",
            "_________________________________________________________________\n",
            "dropout_4 (Dropout)          (None, 500, 32)           0         \n",
            "_________________________________________________________________\n",
            "simple_rnn_1 (SimpleRNN)     (None, 32)                2080      \n",
            "_________________________________________________________________\n",
            "dropout_5 (Dropout)          (None, 32)                0         \n",
            "_________________________________________________________________\n",
            "dense_2 (Dense)              (None, 1)                 33        \n",
            "=================================================================\n",
            "Total params: 322,113\n",
            "Trainable params: 322,113\n",
            "Non-trainable params: 0\n",
            "_________________________________________________________________\n"
          ]
        }
      ]
    },
    {
      "cell_type": "code",
      "metadata": {
        "colab": {
          "base_uri": "https://localhost:8080/"
        },
        "id": "sf1FOgm0G0oH",
        "outputId": "c5272049-b712-4a69-90be-5f5e00e769b5"
      },
      "source": [
        "start = time.time()\n",
        "train_history = model.fit(x_train, y_train, batch_size=32,\n",
        "                          epochs=10, verbose=2,\n",
        "                          validation_split=0.2)\n",
        "stop = time.time()\n",
        "print(f\"Training time: {stop - start}s\")"
      ],
      "execution_count": null,
      "outputs": [
        {
          "output_type": "stream",
          "name": "stdout",
          "text": [
            "Epoch 1/10\n",
            "625/625 - 353s - loss: 0.6049 - accuracy: 0.6521 - val_loss: 0.4378 - val_accuracy: 0.8078\n",
            "Epoch 2/10\n",
            "625/625 - 352s - loss: 0.3836 - accuracy: 0.8364 - val_loss: 0.3701 - val_accuracy: 0.8508\n",
            "Epoch 3/10\n",
            "625/625 - 354s - loss: 0.3178 - accuracy: 0.8731 - val_loss: 0.4057 - val_accuracy: 0.8464\n",
            "Epoch 4/10\n",
            "625/625 - 350s - loss: 0.3510 - accuracy: 0.8446 - val_loss: 0.4302 - val_accuracy: 0.8358\n",
            "Epoch 5/10\n",
            "625/625 - 352s - loss: 0.2958 - accuracy: 0.8711 - val_loss: 0.6841 - val_accuracy: 0.6686\n",
            "Epoch 6/10\n",
            "625/625 - 350s - loss: 0.2034 - accuracy: 0.9186 - val_loss: 0.5261 - val_accuracy: 0.8062\n",
            "Epoch 7/10\n",
            "625/625 - 357s - loss: 0.1055 - accuracy: 0.9627 - val_loss: 0.6552 - val_accuracy: 0.7872\n",
            "Epoch 8/10\n",
            "625/625 - 353s - loss: 0.0727 - accuracy: 0.9756 - val_loss: 0.6594 - val_accuracy: 0.7994\n",
            "Epoch 9/10\n",
            "625/625 - 350s - loss: 0.0633 - accuracy: 0.9776 - val_loss: 0.6784 - val_accuracy: 0.8188\n",
            "Epoch 10/10\n",
            "625/625 - 347s - loss: 0.0500 - accuracy: 0.9823 - val_loss: 0.7604 - val_accuracy: 0.8024\n",
            "Training time: 3563.072158098221s\n"
          ]
        }
      ]
    },
    {
      "cell_type": "code",
      "metadata": {
        "colab": {
          "base_uri": "https://localhost:8080/",
          "height": 609
        },
        "id": "c23v-D2_G0q8",
        "outputId": "7bfcc5fa-7018-40db-a178-24b1112ddc7d"
      },
      "source": [
        "acc=train_history.history['accuracy']\n",
        "val_acc=train_history.history['val_accuracy']\n",
        "loss=train_history.history['loss']\n",
        "val_loss=train_history.history['val_loss']\n",
        "\n",
        "epochs=range(len(acc))\n",
        "\n",
        "plt.plot(epochs, acc, 'r')\n",
        "plt.plot(epochs, val_acc, 'b')\n",
        "plt.title('Training and validation accuracy')\n",
        "plt.xlabel(\"Epochs\")\n",
        "plt.ylabel(\"Accuracy\")\n",
        "plt.legend([\"Accuracy\", \"Validation Accuracy\"])\n",
        "plt.figure()\n",
        "\n",
        "plt.plot(epochs, loss, 'r')\n",
        "plt.plot(epochs, val_loss, 'b')\n",
        "plt.title('Training and validation loss')\n",
        "plt.xlabel(\"Epochs\")\n",
        "plt.ylabel(\"Loss\")\n",
        "plt.legend([\"Loss\", \"Validation Loss\"])\n",
        "plt.figure()"
      ],
      "execution_count": null,
      "outputs": [
        {
          "output_type": "execute_result",
          "data": {
            "text/plain": [
              "<Figure size 432x288 with 0 Axes>"
            ]
          },
          "metadata": {},
          "execution_count": 17
        },
        {
          "output_type": "display_data",
          "data": {
            "image/png": "[encoded data removed]",
            "text/plain": [
              "<Figure size 432x288 with 1 Axes>"
            ]
          },
          "metadata": {
            "needs_background": "light"
          }
        },
        {
          "output_type": "display_data",
          "data": {
            "image/png": "[encoded data removed]",
            "text/plain": [
              "<Figure size 432x288 with 1 Axes>"
            ]
          },
          "metadata": {
            "needs_background": "light"
          }
        },
        {
          "output_type": "display_data",
          "data": {
            "text/plain": [
              "<Figure size 432x288 with 0 Axes>"
            ]
          },
          "metadata": {}
        }
      ]
    },
    {
      "cell_type": "code",
      "metadata": {
        "colab": {
          "base_uri": "https://localhost:8080/"
        },
        "id": "zVpBA6SpG0tc",
        "outputId": "208ff758-aaec-495a-97e8-9419741e38d8"
      },
      "source": [
        "start = time.time()\n",
        "scores = model.evaluate(x_test, y_test, verbose=1)\n",
        "stop = time.time()\n",
        "print(f\"Evaluation time: {stop - start}s\")\n",
        "print(\"Test Accuracy: \", scores[1])\n",
        "print(\"Test Loss: \", scores[0])"
      ],
      "execution_count": null,
      "outputs": [
        {
          "output_type": "stream",
          "name": "stdout",
          "text": [
            "782/782 [==============================] - 41s 52ms/step - loss: 0.7713 - accuracy: 0.7990\n",
            "Evaluation time: 40.91284155845642s\n",
            "Test Accuracy:  0.7990400195121765\n",
            "Test Loss:  0.771346390247345\n"
          ]
        }
      ]
    },
    {
      "cell_type": "markdown",
      "metadata": {
        "id": "W1RNnFEuHQNd"
      },
      "source": [
        "**GRU Experiment**"
      ]
    },
    {
      "cell_type": "code",
      "metadata": {
        "id": "LB0e6E6WEl9s",
        "colab": {
          "base_uri": "https://localhost:8080/"
        },
        "outputId": "912ad044-4a8e-48b6-f5a8-834cbad75705"
      },
      "source": [
        "model = tf.keras.models.Sequential()\n",
        "model.add(\n",
        "    tf.keras.layers.Embedding(\n",
        "        input_dim = vocab_size,\n",
        "        output_dim = 32,\n",
        "        input_length = review_length\n",
        "    )\n",
        ")\n",
        "model.add(\n",
        "    tf.keras.layers.Dropout(\n",
        "        rate=0.25\n",
        "    )\n",
        ")\n",
        "model.add(\n",
        "    tf.keras.layers.GRU(\n",
        "        units=32\n",
        "    )\n",
        ")\n",
        "\n",
        "model.add(\n",
        "    tf.keras.layers.Dropout(\n",
        "        rate=0.25\n",
        "    )\n",
        ")\n",
        "model.add(\n",
        "    tf.keras.layers.Dense(\n",
        "        units=1,\n",
        "        activation='sigmoid' \n",
        "    )\n",
        ")\n",
        "model.compile(\n",
        "    loss=tf.keras.losses.binary_crossentropy,\n",
        "    optimizer=tf.keras.optimizers.Adam(),\n",
        "    metrics=['accuracy']) \n",
        "model.summary()"
      ],
      "execution_count": null,
      "outputs": [
        {
          "output_type": "stream",
          "name": "stdout",
          "text": [
            "Model: \"sequential_4\"\n",
            "_________________________________________________________________\n",
            "Layer (type)                 Output Shape              Param #   \n",
            "=================================================================\n",
            "embedding_4 (Embedding)      (None, 500, 32)           320000    \n",
            "_________________________________________________________________\n",
            "dropout_8 (Dropout)          (None, 500, 32)           0         \n",
            "_________________________________________________________________\n",
            "gru (GRU)                    (None, 32)                6336      \n",
            "_________________________________________________________________\n",
            "dropout_9 (Dropout)          (None, 32)                0         \n",
            "_________________________________________________________________\n",
            "dense_4 (Dense)              (None, 1)                 33        \n",
            "=================================================================\n",
            "Total params: 326,369\n",
            "Trainable params: 326,369\n",
            "Non-trainable params: 0\n",
            "_________________________________________________________________\n"
          ]
        }
      ]
    },
    {
      "cell_type": "code",
      "metadata": {
        "id": "-ULqPpo5EmAk",
        "colab": {
          "base_uri": "https://localhost:8080/"
        },
        "outputId": "136c11dc-3d8d-410a-e2ee-fce03c2bf952"
      },
      "source": [
        "start = time.time()\n",
        "train_history = model.fit(x_train, y_train, batch_size=32,\n",
        "                          epochs=10, verbose=2,\n",
        "                          validation_split=0.2)\n",
        "stop = time.time()\n",
        "print(f\"Training time: {stop - start}s\")"
      ],
      "execution_count": null,
      "outputs": [
        {
          "output_type": "stream",
          "name": "stdout",
          "text": [
            "Epoch 1/10\n",
            "625/625 - 64s - loss: 0.4911 - accuracy: 0.7479 - val_loss: 0.3902 - val_accuracy: 0.8390\n",
            "Epoch 2/10\n",
            "625/625 - 62s - loss: 0.2681 - accuracy: 0.8945 - val_loss: 0.3409 - val_accuracy: 0.8596\n",
            "Epoch 3/10\n",
            "625/625 - 61s - loss: 0.1907 - accuracy: 0.9290 - val_loss: 0.3177 - val_accuracy: 0.8700\n",
            "Epoch 4/10\n",
            "625/625 - 61s - loss: 0.1529 - accuracy: 0.9455 - val_loss: 0.3433 - val_accuracy: 0.8660\n",
            "Epoch 5/10\n",
            "625/625 - 62s - loss: 0.1252 - accuracy: 0.9552 - val_loss: 0.3418 - val_accuracy: 0.8782\n",
            "Epoch 6/10\n",
            "625/625 - 62s - loss: 0.0933 - accuracy: 0.9697 - val_loss: 0.4489 - val_accuracy: 0.8690\n",
            "Epoch 7/10\n",
            "625/625 - 62s - loss: 0.0735 - accuracy: 0.9754 - val_loss: 0.4632 - val_accuracy: 0.8738\n",
            "Epoch 8/10\n",
            "625/625 - 62s - loss: 0.0582 - accuracy: 0.9814 - val_loss: 0.4740 - val_accuracy: 0.8776\n",
            "Epoch 9/10\n",
            "625/625 - 62s - loss: 0.0473 - accuracy: 0.9850 - val_loss: 0.5118 - val_accuracy: 0.8378\n",
            "Epoch 10/10\n",
            "625/625 - 62s - loss: 0.0426 - accuracy: 0.9850 - val_loss: 0.5497 - val_accuracy: 0.8744\n",
            "Training time: 623.532993555069s\n"
          ]
        }
      ]
    },
    {
      "cell_type": "code",
      "metadata": {
        "id": "S201y1U_EmDE",
        "colab": {
          "base_uri": "https://localhost:8080/",
          "height": 609
        },
        "outputId": "872c2f95-83a9-46b8-c300-be56be21e3c2"
      },
      "source": [
        "acc=train_history.history['accuracy']\n",
        "val_acc=train_history.history['val_accuracy']\n",
        "loss=train_history.history['loss']\n",
        "val_loss=train_history.history['val_loss']\n",
        "\n",
        "epochs=range(len(acc))\n",
        "\n",
        "plt.plot(epochs, acc, 'r')\n",
        "plt.plot(epochs, val_acc, 'b')\n",
        "plt.title('Training and validation accuracy')\n",
        "plt.xlabel(\"Epochs\")\n",
        "plt.ylabel(\"Accuracy\")\n",
        "plt.legend([\"Accuracy\", \"Validation Accuracy\"])\n",
        "plt.figure()\n",
        "\n",
        "plt.plot(epochs, loss, 'r')\n",
        "plt.plot(epochs, val_loss, 'b')\n",
        "plt.title('Training and validation loss')\n",
        "plt.xlabel(\"Epochs\")\n",
        "plt.ylabel(\"Loss\")\n",
        "plt.legend([\"Loss\", \"Validation Loss\"])\n",
        "plt.figure()"
      ],
      "execution_count": null,
      "outputs": [
        {
          "output_type": "execute_result",
          "data": {
            "text/plain": [
              "<Figure size 432x288 with 0 Axes>"
            ]
          },
          "metadata": {},
          "execution_count": 25
        },
        {
          "output_type": "display_data",
          "data": {
            "image/png": "[encoded data removed]",
            "text/plain": [
              "<Figure size 432x288 with 1 Axes>"
            ]
          },
          "metadata": {
            "needs_background": "light"
          }
        },
        {
          "output_type": "display_data",
          "data": {
            "image/png": "[encoded data removed]",
            "text/plain": [
              "<Figure size 432x288 with 1 Axes>"
            ]
          },
          "metadata": {
            "needs_background": "light"
          }
        },
        {
          "output_type": "display_data",
          "data": {
            "text/plain": [
              "<Figure size 432x288 with 0 Axes>"
            ]
          },
          "metadata": {}
        }
      ]
    },
    {
      "cell_type": "code",
      "metadata": {
        "id": "QN_PxNizEmGM",
        "colab": {
          "base_uri": "https://localhost:8080/"
        },
        "outputId": "fe110fb6-e4c5-464a-b011-9a19c35aa08b"
      },
      "source": [
        "start = time.time()\n",
        "scores = model.evaluate(x_test, y_test, verbose=1)\n",
        "stop = time.time()\n",
        "print(f\"Evaluation time: {stop - start}s\")\n",
        "print(\"Test Accuracy: \", scores[1])\n",
        "print(\"Test Loss: \", scores[0])"
      ],
      "execution_count": null,
      "outputs": [
        {
          "output_type": "stream",
          "name": "stdout",
          "text": [
            "782/782 [==============================] - 23s 29ms/step - loss: 0.6170 - accuracy: 0.8603\n",
            "Evaluation time: 41.4246289730072s\n",
            "Test Accuracy:  0.8602799773216248\n",
            "Test Loss:  0.6169819235801697\n"
          ]
        }
      ]
    },
    {
      "cell_type": "markdown",
      "metadata": {
        "id": "xLILxIQGHF3y"
      },
      "source": [
        "**LSTM Experiment**"
      ]
    },
    {
      "cell_type": "code",
      "metadata": {
        "colab": {
          "base_uri": "https://localhost:8080/"
        },
        "id": "NUIFi37clzAR",
        "outputId": "3a9ddfbd-8cc4-4296-f3cc-333c3461aab9"
      },
      "source": [
        "model = tf.keras.models.Sequential()\n",
        "model.add(\n",
        "    tf.keras.layers.Embedding(\n",
        "        input_dim = vocab_size,\n",
        "        output_dim = 32,\n",
        "        input_length = review_length\n",
        "    )\n",
        ")\n",
        "model.add(\n",
        "    tf.keras.layers.Dropout(\n",
        "        rate=0.25\n",
        "    )\n",
        ")\n",
        "model.add(\n",
        "    tf.keras.layers.LSTM(\n",
        "        units=32\n",
        "    )\n",
        ")\n",
        "\n",
        "model.add(\n",
        "    tf.keras.layers.Dropout(\n",
        "        rate=0.25\n",
        "    )\n",
        ")\n",
        "model.add(\n",
        "    tf.keras.layers.Dense(\n",
        "        units=1,\n",
        "        activation='sigmoid' \n",
        "    )\n",
        ")\n",
        "model.compile(\n",
        "    loss=tf.keras.losses.binary_crossentropy,\n",
        "    optimizer=tf.keras.optimizers.Adam(),\n",
        "    metrics=['accuracy']) \n",
        "model.summary()"
      ],
      "execution_count": null,
      "outputs": [
        {
          "output_type": "stream",
          "name": "stdout",
          "text": [
            "Model: \"sequential_3\"\n",
            "_________________________________________________________________\n",
            "Layer (type)                 Output Shape              Param #   \n",
            "=================================================================\n",
            "embedding_3 (Embedding)      (None, 500, 32)           320000    \n",
            "_________________________________________________________________\n",
            "dropout_6 (Dropout)          (None, 500, 32)           0         \n",
            "_________________________________________________________________\n",
            "lstm_1 (LSTM)                (None, 32)                8320      \n",
            "_________________________________________________________________\n",
            "dropout_7 (Dropout)          (None, 32)                0         \n",
            "_________________________________________________________________\n",
            "dense_3 (Dense)              (None, 1)                 33        \n",
            "=================================================================\n",
            "Total params: 328,353\n",
            "Trainable params: 328,353\n",
            "Non-trainable params: 0\n",
            "_________________________________________________________________\n"
          ]
        }
      ]
    },
    {
      "cell_type": "code",
      "metadata": {
        "colab": {
          "base_uri": "https://localhost:8080/"
        },
        "id": "PWIHyIuHlzCw",
        "outputId": "04e13bc7-3810-4e61-fc85-bb1e86031390"
      },
      "source": [
        "start = time.time()\n",
        "train_history = model.fit(x_train, y_train, batch_size=32,\n",
        "                          epochs=10, verbose=2,\n",
        "                          validation_split=0.2)\n",
        "stop = time.time()\n",
        "print(f\"Training time: {stop - start}s\")"
      ],
      "execution_count": null,
      "outputs": [
        {
          "output_type": "stream",
          "name": "stdout",
          "text": [
            "Epoch 1/10\n",
            "625/625 - 64s - loss: 0.4664 - accuracy: 0.7710 - val_loss: 0.5479 - val_accuracy: 0.7108\n",
            "Epoch 2/10\n",
            "625/625 - 62s - loss: 0.3105 - accuracy: 0.8748 - val_loss: 0.3295 - val_accuracy: 0.8678\n",
            "Epoch 3/10\n",
            "625/625 - 62s - loss: 0.2109 - accuracy: 0.9211 - val_loss: 0.3458 - val_accuracy: 0.8724\n",
            "Epoch 4/10\n",
            "625/625 - 62s - loss: 0.1652 - accuracy: 0.9410 - val_loss: 0.3362 - val_accuracy: 0.8720\n",
            "Epoch 5/10\n",
            "625/625 - 61s - loss: 0.1431 - accuracy: 0.9493 - val_loss: 0.3640 - val_accuracy: 0.8708\n",
            "Epoch 6/10\n",
            "625/625 - 61s - loss: 0.1320 - accuracy: 0.9518 - val_loss: 0.4085 - val_accuracy: 0.8656\n",
            "Epoch 7/10\n",
            "625/625 - 62s - loss: 0.1022 - accuracy: 0.9643 - val_loss: 0.4277 - val_accuracy: 0.8686\n",
            "Epoch 8/10\n",
            "625/625 - 61s - loss: 0.0945 - accuracy: 0.9683 - val_loss: 0.4985 - val_accuracy: 0.8592\n",
            "Epoch 9/10\n",
            "625/625 - 61s - loss: 0.0907 - accuracy: 0.9682 - val_loss: 0.4488 - val_accuracy: 0.8562\n",
            "Epoch 10/10\n",
            "625/625 - 61s - loss: 0.0776 - accuracy: 0.9742 - val_loss: 0.5249 - val_accuracy: 0.8656\n",
            "Training time: 623.6378936767578s\n"
          ]
        }
      ]
    },
    {
      "cell_type": "code",
      "metadata": {
        "id": "jNnkYqIrESnv",
        "colab": {
          "base_uri": "https://localhost:8080/",
          "height": 609
        },
        "outputId": "0dfb17c3-2c8c-4057-dc2b-95a5860c386f"
      },
      "source": [
        "acc=train_history.history['accuracy']\n",
        "val_acc=train_history.history['val_accuracy']\n",
        "loss=train_history.history['loss']\n",
        "val_loss=train_history.history['val_loss']\n",
        "\n",
        "epochs=range(len(acc))\n",
        "\n",
        "plt.plot(epochs, acc, 'r')\n",
        "plt.plot(epochs, val_acc, 'b')\n",
        "plt.title('Training and validation accuracy')\n",
        "plt.xlabel(\"Epochs\")\n",
        "plt.ylabel(\"Accuracy\")\n",
        "plt.legend([\"Accuracy\", \"Validation Accuracy\"])\n",
        "plt.figure()\n",
        "\n",
        "plt.plot(epochs, loss, 'r')\n",
        "plt.plot(epochs, val_loss, 'b')\n",
        "plt.title('Training and validation loss')\n",
        "plt.xlabel(\"Epochs\")\n",
        "plt.ylabel(\"Loss\")\n",
        "plt.legend([\"Loss\", \"Validation Loss\"])\n",
        "plt.figure()"
      ],
      "execution_count": null,
      "outputs": [
        {
          "output_type": "execute_result",
          "data": {
            "text/plain": [
              "<Figure size 432x288 with 0 Axes>"
            ]
          },
          "metadata": {},
          "execution_count": 21
        },
        {
          "output_type": "display_data",
          "data": {
            "image/png": "[encoded data removed]",
            "text/plain": [
              "<Figure size 432x288 with 1 Axes>"
            ]
          },
          "metadata": {
            "needs_background": "light"
          }
        },
        {
          "output_type": "display_data",
          "data": {
            "image/png": "[encoded data removed]",
            "text/plain": [
              "<Figure size 432x288 with 1 Axes>"
            ]
          },
          "metadata": {
            "needs_background": "light"
          }
        },
        {
          "output_type": "display_data",
          "data": {
            "text/plain": [
              "<Figure size 432x288 with 0 Axes>"
            ]
          },
          "metadata": {}
        }
      ]
    },
    {
      "cell_type": "code",
      "metadata": {
        "colab": {
          "base_uri": "https://localhost:8080/"
        },
        "id": "A86ONmtQmDjh",
        "outputId": "92336166-d7a7-4a61-ca8c-f0f35ba163f9"
      },
      "source": [
        "start = time.time()\n",
        "scores = model.evaluate(x_test, y_test, verbose=1)\n",
        "stop = time.time()\n",
        "print(f\"Evaluation time: {stop - start}s\")\n",
        "print(\"Test Accuracy: \", scores[1])\n",
        "print(\"Test Loss: \", scores[0])"
      ],
      "execution_count": null,
      "outputs": [
        {
          "output_type": "stream",
          "name": "stdout",
          "text": [
            "782/782 [==============================] - 22s 29ms/step - loss: 0.5498 - accuracy: 0.8547\n",
            "Evaluation time: 22.389317512512207s\n",
            "Test Accuracy:  0.8546800017356873\n",
            "Test Loss:  0.5498093962669373\n"
          ]
        }
      ]
    },
    {
      "cell_type": "markdown",
      "metadata": {
        "id": "igI01Q7DHVDH"
      },
      "source": [
        "**Bidirectional LSTM**"
      ]
    },
    {
      "cell_type": "code",
      "metadata": {
        "colab": {
          "base_uri": "https://localhost:8080/"
        },
        "id": "qr9SmLtgHe1u",
        "outputId": "b48169c1-dda9-404e-952e-915ddc427460"
      },
      "source": [
        "model = tf.keras.models.Sequential()\n",
        "model.add(\n",
        "    tf.keras.layers.Embedding(\n",
        "        input_dim = vocab_size,\n",
        "        output_dim = 32,\n",
        "        input_length = review_length\n",
        "    )\n",
        ")\n",
        "model.add(\n",
        "    tf.keras.layers.Dropout(\n",
        "        rate=0.25\n",
        "    )\n",
        ")\n",
        "model.add(\n",
        "    tf.keras.layers.Bidirectional(tf.keras.layers.LSTM(64, return_sequences=True))\n",
        ")\n",
        "\n",
        "model.add(\n",
        "    tf.keras.layers.Bidirectional(tf.keras.layers.LSTM(64))\n",
        ")\n",
        "\n",
        "model.add(\n",
        "    tf.keras.layers.Dropout(\n",
        "        rate=0.25\n",
        "    )\n",
        ")\n",
        "model.add(\n",
        "    tf.keras.layers.Dense(\n",
        "        units=1,\n",
        "        activation='sigmoid' \n",
        "    )\n",
        ")\n",
        "model.compile(\n",
        "    loss=tf.keras.losses.binary_crossentropy,\n",
        "    optimizer=tf.keras.optimizers.Adam(),\n",
        "    metrics=['accuracy']) \n",
        "model.summary()"
      ],
      "execution_count": null,
      "outputs": [
        {
          "output_type": "stream",
          "name": "stdout",
          "text": [
            "Model: \"sequential_5\"\n",
            "_________________________________________________________________\n",
            "Layer (type)                 Output Shape              Param #   \n",
            "=================================================================\n",
            "embedding_5 (Embedding)      (None, 500, 32)           320000    \n",
            "_________________________________________________________________\n",
            "dropout_10 (Dropout)         (None, 500, 32)           0         \n",
            "_________________________________________________________________\n",
            "bidirectional (Bidirectional (None, 500, 128)          49664     \n",
            "_________________________________________________________________\n",
            "bidirectional_1 (Bidirection (None, 128)               98816     \n",
            "_________________________________________________________________\n",
            "dropout_11 (Dropout)         (None, 128)               0         \n",
            "_________________________________________________________________\n",
            "dense_5 (Dense)              (None, 1)                 129       \n",
            "=================================================================\n",
            "Total params: 468,609\n",
            "Trainable params: 468,609\n",
            "Non-trainable params: 0\n",
            "_________________________________________________________________\n"
          ]
        }
      ]
    },
    {
      "cell_type": "code",
      "metadata": {
        "id": "gJdTtgGiFUxe",
        "colab": {
          "base_uri": "https://localhost:8080/"
        },
        "outputId": "0f9951bd-5395-4635-86ab-224b33497821"
      },
      "source": [
        "start = time.time()\n",
        "train_history = model.fit(x_train, y_train, batch_size=32,\n",
        "                          epochs=10, verbose=2,\n",
        "                          validation_split=0.2)\n",
        "stop = time.time()\n",
        "print(f\"Training time: {stop - start}s\")"
      ],
      "execution_count": null,
      "outputs": [
        {
          "output_type": "stream",
          "name": "stdout",
          "text": [
            "Epoch 1/10\n",
            "625/625 - 305s - loss: 0.4515 - accuracy: 0.7883 - val_loss: 0.3426 - val_accuracy: 0.8596\n",
            "Epoch 2/10\n",
            "625/625 - 299s - loss: 0.2638 - accuracy: 0.8979 - val_loss: 0.3298 - val_accuracy: 0.8736\n",
            "Epoch 3/10\n",
            "625/625 - 301s - loss: 0.1929 - accuracy: 0.9293 - val_loss: 0.3161 - val_accuracy: 0.8748\n",
            "Epoch 4/10\n",
            "625/625 - 302s - loss: 0.1420 - accuracy: 0.9507 - val_loss: 0.3348 - val_accuracy: 0.8746\n",
            "Epoch 5/10\n",
            "625/625 - 301s - loss: 0.1146 - accuracy: 0.9609 - val_loss: 0.3936 - val_accuracy: 0.8736\n",
            "Epoch 6/10\n",
            "625/625 - 304s - loss: 0.0954 - accuracy: 0.9678 - val_loss: 0.4264 - val_accuracy: 0.8400\n",
            "Epoch 7/10\n",
            "625/625 - 303s - loss: 0.0741 - accuracy: 0.9746 - val_loss: 0.4271 - val_accuracy: 0.8622\n",
            "Epoch 8/10\n",
            "625/625 - 304s - loss: 0.0645 - accuracy: 0.9791 - val_loss: 0.5328 - val_accuracy: 0.8596\n",
            "Epoch 9/10\n",
            "625/625 - 304s - loss: 0.0536 - accuracy: 0.9821 - val_loss: 0.6242 - val_accuracy: 0.8608\n",
            "Epoch 10/10\n",
            "625/625 - 304s - loss: 0.0526 - accuracy: 0.9831 - val_loss: 0.5283 - val_accuracy: 0.8572\n",
            "Training time: 3027.7312800884247s\n"
          ]
        }
      ]
    },
    {
      "cell_type": "code",
      "metadata": {
        "id": "AqYA1eMXFVtL",
        "colab": {
          "base_uri": "https://localhost:8080/",
          "height": 609
        },
        "outputId": "f02cba2b-7c77-41ba-a371-b339e83a9445"
      },
      "source": [
        "acc=train_history.history['accuracy']\n",
        "val_acc=train_history.history['val_accuracy']\n",
        "loss=train_history.history['loss']\n",
        "val_loss=train_history.history['val_loss']\n",
        "\n",
        "epochs=range(len(acc))\n",
        "\n",
        "plt.plot(epochs, acc, 'r')\n",
        "plt.plot(epochs, val_acc, 'b')\n",
        "plt.title('Training and validation accuracy')\n",
        "plt.xlabel(\"Epochs\")\n",
        "plt.ylabel(\"Accuracy\")\n",
        "plt.legend([\"Accuracy\", \"Validation Accuracy\"])\n",
        "plt.figure()\n",
        "\n",
        "plt.plot(epochs, loss, 'r')\n",
        "plt.plot(epochs, val_loss, 'b')\n",
        "plt.title('Training and validation loss')\n",
        "plt.xlabel(\"Epochs\")\n",
        "plt.ylabel(\"Loss\")\n",
        "plt.legend([\"Loss\", \"Validation Loss\"])\n",
        "plt.figure()"
      ],
      "execution_count": null,
      "outputs": [
        {
          "output_type": "execute_result",
          "data": {
            "text/plain": [
              "<Figure size 432x288 with 0 Axes>"
            ]
          },
          "metadata": {},
          "execution_count": 29
        },
        {
          "output_type": "display_data",
          "data": {
            "image/png": "[encoded data removed]",
            "text/plain": [
              "<Figure size 432x288 with 1 Axes>"
            ]
          },
          "metadata": {
            "needs_background": "light"
          }
        },
        {
          "output_type": "display_data",
          "data": {
            "image/png": "[encoded data removed]",
            "text/plain": [
              "<Figure size 432x288 with 1 Axes>"
            ]
          },
          "metadata": {
            "needs_background": "light"
          }
        },
        {
          "output_type": "display_data",
          "data": {
            "text/plain": [
              "<Figure size 432x288 with 0 Axes>"
            ]
          },
          "metadata": {}
        }
      ]
    },
    {
      "cell_type": "code",
      "metadata": {
        "id": "hxpTg5_BFWZY",
        "colab": {
          "base_uri": "https://localhost:8080/"
        },
        "outputId": "a8d397d5-817a-455e-dd1e-b556bcc5687f"
      },
      "source": [
        "start = time.time()\n",
        "scores = model.evaluate(x_test, y_test, verbose=1)\n",
        "stop = time.time()\n",
        "print(f\"Evaluation time: {stop - start}s\")\n",
        "print(\"Test Accuracy: \", scores[1])\n",
        "print(\"Test Loss: \", scores[0])"
      ],
      "execution_count": null,
      "outputs": [
        {
          "output_type": "stream",
          "name": "stdout",
          "text": [
            "782/782 [==============================] - 135s 173ms/step - loss: 0.5528 - accuracy: 0.8505\n",
            "Evaluation time: 141.96383547782898s\n",
            "Test Accuracy:  0.8505200147628784\n",
            "Test Loss:  0.5528090000152588\n"
          ]
        }
      ]
    }
  ]
}